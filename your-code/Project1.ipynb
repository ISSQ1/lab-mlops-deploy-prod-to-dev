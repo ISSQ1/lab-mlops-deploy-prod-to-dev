{
 "cells": [
  {
   "cell_type": "code",
   "execution_count": 2,
   "id": "266a9355",
   "metadata": {},
   "outputs": [
    {
     "name": "stdout",
     "output_type": "stream",
     "text": [
      "Student Scores:\n",
      "     name  score\n",
      "0  Shatha     90\n",
      "1   Sahar     85\n"
     ]
    }
   ],
   "source": [
    "import pandas as pd\n",
    "\n",
    "data = {\"name\": [\"Shatha\", \"Sahar\"], \"score\": [90, 85]}\n",
    "df = pd.DataFrame(data)\n",
    "\n",
    "print(\"Student Scores:\")\n",
    "print(df)\n"
   ]
  }
 ],
 "metadata": {
  "kernelspec": {
   "display_name": "Python 3",
   "language": "python",
   "name": "python3"
  },
  "language_info": {
   "codemirror_mode": {
    "name": "ipython",
    "version": 3
   },
   "file_extension": ".py",
   "mimetype": "text/x-python",
   "name": "python",
   "nbconvert_exporter": "python",
   "pygments_lexer": "ipython3",
   "version": "3.12.9"
  }
 },
 "nbformat": 4,
 "nbformat_minor": 5
}
